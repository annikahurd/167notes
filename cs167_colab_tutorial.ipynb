{
  "nbformat": 4,
  "nbformat_minor": 0,
  "metadata": {
    "colab": {
      "provenance": [],
      "authorship_tag": "ABX9TyPbeqQORSE8tPIqN3Uq6jvv",
      "include_colab_link": true
    },
    "kernelspec": {
      "name": "python3",
      "display_name": "Python 3"
    },
    "language_info": {
      "name": "python"
    }
  },
  "cells": [
    {
      "cell_type": "markdown",
      "metadata": {
        "id": "view-in-github",
        "colab_type": "text"
      },
      "source": [
        "<a href=\"https://colab.research.google.com/github/annikahurd/167notes/blob/main/cs167_colab_tutorial.ipynb\" target=\"_parent\"><img src=\"https://colab.research.google.com/assets/colab-badge.svg\" alt=\"Open In Colab\"/></a>"
      ]
    },
    {
      "cell_type": "markdown",
      "source": [
        "# Colab Tutorial\n",
        "\n",
        "Jan 3rd, 2023\n",
        "\n",
        "You can run Python in Colab. \n",
        "\n",
        "Markdown Basics:\n",
        "- **bold text**\n",
        "- *italics*\n",
        "-`typewriter text`\n",
        "-[link name](www.google.com)\n",
        "  - new level of indentation\n",
        "\n",
        "| a | b | c |\n",
        "|---|---|---|\n",
        "| 1 | 2 | 3 |"
      ],
      "metadata": {
        "id": "qTbiUp1ch3UE"
      }
    },
    {
      "cell_type": "code",
      "source": [
        "x = 3+2 \n",
        "x; #with a semicolon, colab will not print out the last value in the code\n",
        "print(x)"
      ],
      "metadata": {
        "colab": {
          "base_uri": "https://localhost:8080/"
        },
        "id": "5y5xZbpqiA0v",
        "outputId": "42d74ca3-f56f-4c1c-ccc0-e7101554f1ae"
      },
      "execution_count": 2,
      "outputs": [
        {
          "output_type": "stream",
          "name": "stdout",
          "text": [
            "5\n"
          ]
        }
      ]
    }
  ]
}